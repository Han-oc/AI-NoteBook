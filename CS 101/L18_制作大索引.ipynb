{
 "cells": [
  {
   "cell_type": "markdown",
   "metadata": {},
   "source": [
    "### 【整个流程】\n",
    "- **make_string**是将列表里的字符连接成字符串\n",
    "- **add_to_index**是将keyword，url添加到索引里面去\n",
    "- **make_big_index**\n",
    "    - 建立一个空的索引\n",
    "    - 定义一个全是'a'的列表\n",
    "    - while判断索引的长度有没有达到定义的size\n",
    "    - 将letters列表转换成字符串\n",
    "    - 将字符串作为关键字添加进index\n",
    "    - 从字符最后一个迭代，如果字符小于'z'，那么就对这个字符加一，比如增加到26到'z'，这里有个break，不会继续往下迭代。它就把letters列表最后一个设置为'a'，此时就会往倒数第二个迭代，从'a'到'z'"
   ]
  },
  {
   "cell_type": "code",
   "execution_count": 6,
   "metadata": {},
   "outputs": [],
   "source": [
    "### make a big index(把列表变成一个字符串)\n",
    "def make_string(p):\n",
    "    s = \"\"\n",
    "    for e in p:\n",
    "        s = s + e\n",
    "    return s\n",
    "def add_to_index(index, keyword, url):\n",
    "    for entry in index:\n",
    "        if entry[0] == keyword:\n",
    "            # checkpoint\n",
    "            if  url not in entry[1]:\n",
    "                entry[1].append(url)\n",
    "            return\n",
    "    # not found, add new keyword to index\n",
    "    index.append([keyword, [url]])\n",
    "\n",
    "def make_big_index(size):\n",
    "    index = []\n",
    "    letters = ['a','a','a','a','a','a','a','a']\n",
    "    # 如果索引没到需要的size大小，就继续循环\n",
    "    while len(index) < size:\n",
    "    # 把letters列表里的字符连接成字符串\n",
    "        word = make_string(letters)\n",
    "    # 把这个列表生成的字符串作为关键字添加到index里面\n",
    "        add_to_index(index, word, 'fake')\n",
    "    # \n",
    "        for i in range(len(letters) - 1, 0, -1):\n",
    "            if letters[i] < 'z':\n",
    "                letters[i] = chr(ord(letters[i]) + 1)\n",
    "                break\n",
    "            else:\n",
    "                letters[i] = 'a'\n",
    "    return index"
   ]
  },
  {
   "cell_type": "code",
   "execution_count": 11,
   "metadata": {
    "scrolled": false
   },
   "outputs": [
    {
     "name": "stdout",
     "output_type": "stream",
     "text": [
      "[['aaaaaaaa', ['fake']], ['aaaaaaab', ['fake']], ['aaaaaaac', ['fake']], ['aaaaaaad', ['fake']], ['aaaaaaae', ['fake']], ['aaaaaaaf', ['fake']], ['aaaaaaag', ['fake']], ['aaaaaaah', ['fake']], ['aaaaaaai', ['fake']], ['aaaaaaaj', ['fake']], ['aaaaaaak', ['fake']], ['aaaaaaal', ['fake']], ['aaaaaaam', ['fake']], ['aaaaaaan', ['fake']], ['aaaaaaao', ['fake']], ['aaaaaaap', ['fake']], ['aaaaaaaq', ['fake']], ['aaaaaaar', ['fake']], ['aaaaaaas', ['fake']], ['aaaaaaat', ['fake']], ['aaaaaaau', ['fake']], ['aaaaaaav', ['fake']], ['aaaaaaaw', ['fake']], ['aaaaaaax', ['fake']], ['aaaaaaay', ['fake']], ['aaaaaaaz', ['fake']], ['aaaaaaba', ['fake']]]\n"
     ]
    }
   ],
   "source": [
    "print (make_big_index(27))"
   ]
  }
 ],
 "metadata": {
  "kernelspec": {
   "display_name": "Python 3",
   "language": "python",
   "name": "python3"
  },
  "language_info": {
   "codemirror_mode": {
    "name": "ipython",
    "version": 3
   },
   "file_extension": ".py",
   "mimetype": "text/x-python",
   "name": "python",
   "nbconvert_exporter": "python",
   "pygments_lexer": "ipython3",
   "version": "3.7.3"
  }
 },
 "nbformat": 4,
 "nbformat_minor": 2
}
