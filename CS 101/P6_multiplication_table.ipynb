{
 "cells": [
  {
   "cell_type": "markdown",
   "metadata": {},
   "source": [
    "2 GOLD STARS\n",
    "\n",
    "Define a procedure, print_multiplication_table,\n",
    "that takes as input a positive whole number, and prints out a multiplication,\n",
    "table showing all the whole number multiplications up to and including the\n",
    "input number. The order in which the equations are printed matters.\n",
    "\n",
    "Hint: You can not add an integer and a string, but in homework 1.9\n",
    "you came across a method, str, for turning an integer into a string."
   ]
  },
  {
   "cell_type": "code",
   "execution_count": 10,
   "metadata": {},
   "outputs": [
    {
     "name": "stdout",
     "output_type": "stream",
     "text": [
      "1 * 1 = 1\n",
      "1 * 2 = 2\n",
      "1 * 3 = 3\n",
      "2 * 1 = 2\n",
      "2 * 2 = 4\n",
      "2 * 3 = 6\n",
      "3 * 1 = 3\n",
      "3 * 2 = 6\n",
      "3 * 3 = 9\n"
     ]
    }
   ],
   "source": [
    "def _multiplication_table(a):\n",
    "    i = 1\n",
    "    j = 1\n",
    "    while i <= a:\n",
    "        while j <= a:\n",
    "            result = i*j\n",
    "            print (i ,'*' , j , '=',result)\n",
    "            j = j + 1 \n",
    "        j = 1\n",
    "        i = i + 1\n",
    "        \n",
    "\n",
    "_multiplication_table(3)        "
   ]
  }
 ],
 "metadata": {
  "kernelspec": {
   "display_name": "Python 3",
   "language": "python",
   "name": "python3"
  },
  "language_info": {
   "codemirror_mode": {
    "name": "ipython",
    "version": 3
   },
   "file_extension": ".py",
   "mimetype": "text/x-python",
   "name": "python",
   "nbconvert_exporter": "python",
   "pygments_lexer": "ipython3",
   "version": "3.7.3"
  }
 },
 "nbformat": 4,
 "nbformat_minor": 2
}
