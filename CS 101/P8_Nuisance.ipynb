{
 "cells": [
  {
   "cell_type": "markdown",
   "metadata": {},
   "source": [
    "By Sam the Great from forums\n",
    "  That freaking superhero has been frequenting Udacity\n",
    "  as his favorite boss battle fight stage. The 'Udacity'\n",
    "  banner keeps breaking, and money is being wasted on\n",
    "  repairs. This time, we need you to proceduralize the\n",
    "  fixing process by building a machine to automatically\n",
    "  search through debris and return the 'Udacity' banner\n",
    "  to the company, and be able to similarly fix other goods.\n",
    "\n",
    "  Write a Python procedure fix_machine to take 2 string inputs\n",
    "  and returns the 2nd input string as the output if all of its\n",
    "  characters can be found in the 1st input string and \"Give me\n",
    "  something that's not useless next time.\" if it's impossible.\n",
    "  Letters that are present in the 1st input string may be used\n",
    "  as many times as necessary to create the 2nd string (you\n",
    "  don't need to keep track of repeat usage).\n",
    " "
   ]
  },
  {
   "cell_type": "code",
   "execution_count": null,
   "metadata": {},
   "outputs": [],
   "source": [
    "def fix_machine(debris,product):\n",
    "    "
   ]
  }
 ],
 "metadata": {
  "kernelspec": {
   "display_name": "Python 3",
   "language": "python",
   "name": "python3"
  },
  "language_info": {
   "codemirror_mode": {
    "name": "ipython",
    "version": 3
   },
   "file_extension": ".py",
   "mimetype": "text/x-python",
   "name": "python",
   "nbconvert_exporter": "python",
   "pygments_lexer": "ipython3",
   "version": "3.7.3"
  }
 },
 "nbformat": 4,
 "nbformat_minor": 2
}
