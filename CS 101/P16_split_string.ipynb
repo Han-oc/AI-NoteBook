{
 "cells": [
  {
   "cell_type": "code",
   "execution_count": 1,
   "metadata": {},
   "outputs": [
    {
     "ename": "SyntaxError",
     "evalue": "unexpected EOF while parsing (<ipython-input-1-5ab5673292fa>, line 33)",
     "output_type": "error",
     "traceback": [
      "\u001b[1;36m  File \u001b[1;32m\"<ipython-input-1-5ab5673292fa>\"\u001b[1;36m, line \u001b[1;32m33\u001b[0m\n\u001b[1;33m    #>>>['First Name', 'Last Name', 'Street Address', 'City', 'State', 'Zip Code']\u001b[0m\n\u001b[1;37m                                                                                  ^\u001b[0m\n\u001b[1;31mSyntaxError\u001b[0m\u001b[1;31m:\u001b[0m unexpected EOF while parsing\n"
     ]
    }
   ],
   "source": [
    "# 1 Gold Star\n",
    "\n",
    "# The built-in <string>.split() procedure works\n",
    "# okay, but fails to find all the words on a page\n",
    "# because it only uses whitespace to split the\n",
    "# string. To do better, we should also use punctuation\n",
    "# marks to split the page into words.\n",
    "\n",
    "# Define a procedure, split_string, that takes two\n",
    "# inputs: the string to split and a string containing\n",
    "# all of the characters considered separators. The\n",
    "# procedure should return a list of strings that break\n",
    "# the source string up by the characters in the\n",
    "# splitlist.\n",
    "\n",
    "\n",
    "#def split_string(source,splitlist):\n",
    "\n",
    "\n",
    "\n",
    "\n",
    "\n",
    "#out = split_string(\"This is a test-of the,string separation-code!\",\" ,!-\")\n",
    "#print out\n",
    "#>>> ['This', 'is', 'a', 'test', 'of', 'the', 'string', 'separation', 'code']\n",
    "\n",
    "#out = split_string(\"After  the flood   ...  all the colors came out.\", \" .\")\n",
    "#print out\n",
    "#>>> ['After', 'the', 'flood', 'all', 'the', 'colors', 'came', 'out']\n",
    "\n",
    "#out = split_string(\"First Name,Last Name,Street Address,City,State,Zip Code\",\",\")\n",
    "#print out\n",
    "#>>>['First Name', 'Last Name', 'Street Address', 'City', 'State', 'Zip Code']"
   ]
  },
  {
   "cell_type": "code",
   "execution_count": 1,
   "metadata": {},
   "outputs": [],
   "source": [
    "def split_string(source,splitlist):\n",
    "    output = []\n",
    "    # 检查点的思想不错\n",
    "    atsplit = True\n",
    "    for char in source:\n",
    "    # 判断这个字符在不在里面\n",
    "        if char in splitlist:\n",
    "            atsplit = True\n",
    "    # \n",
    "        else:\n",
    "            if atsplit:\n",
    "                output.append(char)\n",
    "                atsplit = False\n",
    "            else:\n",
    "                output[-1] = output[-1] + char\n",
    "    return output\n",
    "            \n",
    "    "
   ]
  },
  {
   "cell_type": "markdown",
   "metadata": {},
   "source": [
    "### 总结\n",
    "    通过建立检查点，利用**in**来判断字符是否在分割字符的列表里，如果在，那么就插一个检查点。\n",
    "    当下一个不在分割字符列表里的时候，就把这个字符**append**到结果列表里。如果上一个既不是\n",
    "    检查点，也不在分割字符列表里，就使用**list[-1]**和**+**来连接。"
   ]
  },
  {
   "cell_type": "code",
   "execution_count": 2,
   "metadata": {
    "scrolled": true
   },
   "outputs": [
    {
     "name": "stdout",
     "output_type": "stream",
     "text": [
      "['First', 'Name', 'Last', 'Name', 'Street', 'Address', 'City', 'State', 'Zip', 'Code']\n"
     ]
    }
   ],
   "source": [
    "print (split_string(\"First Name,Last Name,Street Address,City,State,Zip Code\",[',',' ']))"
   ]
  }
 ],
 "metadata": {
  "kernelspec": {
   "display_name": "Python 3",
   "language": "python",
   "name": "python3"
  },
  "language_info": {
   "codemirror_mode": {
    "name": "ipython",
    "version": 3
   },
   "file_extension": ".py",
   "mimetype": "text/x-python",
   "name": "python",
   "nbconvert_exporter": "python",
   "pygments_lexer": "ipython3",
   "version": "3.7.3"
  }
 },
 "nbformat": 4,
 "nbformat_minor": 2
}
