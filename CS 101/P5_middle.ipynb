{
 "cells": [
  {
   "cell_type": "code",
   "execution_count": 2,
   "metadata": {},
   "outputs": [
    {
     "name": "stdout",
     "output_type": "stream",
     "text": [
      "8\n"
     ]
    }
   ],
   "source": [
    "def bigger(a,b):\n",
    "    if (a>b):\n",
    "        return a\n",
    "    else:\n",
    "        return b\n",
    "    \n",
    "def biggest(a,b,c):\n",
    "    return bigger(bigger(a,b),c)\n",
    "\n",
    "def middle(a,b,c):\n",
    "    result = biggest(a,b,c)\n",
    "    if result == a:\n",
    "        return bigger(b,c)\n",
    "    if result == b:\n",
    "        return bigger(a,c)\n",
    "    if result == c:\n",
    "        return bigger(a,b)\n",
    "    \n",
    "print(middle(7,8,9))"
   ]
  }
 ],
 "metadata": {
  "kernelspec": {
   "display_name": "Python 3",
   "language": "python",
   "name": "python3"
  },
  "language_info": {
   "codemirror_mode": {
    "name": "ipython",
    "version": 3
   },
   "file_extension": ".py",
   "mimetype": "text/x-python",
   "name": "python",
   "nbconvert_exporter": "python",
   "pygments_lexer": "ipython3",
   "version": "3.7.3"
  }
 },
 "nbformat": 4,
 "nbformat_minor": 2
}
